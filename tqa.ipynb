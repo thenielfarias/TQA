{
 "cells": [
  {
   "cell_type": "code",
   "execution_count": 10,
   "id": "ddf1f5a0-56c3-4aba-bbe9-dffa8c25f88e",
   "metadata": {},
   "outputs": [
    {
     "name": "stdout",
     "output_type": "stream",
     "text": [
      " klbn4 - klabin s.a.\n"
     ]
    }
   ],
   "source": [
    "# TQA\n",
    "from transformers import TapexTokenizer, BartForConditionalGeneration\n",
    "import pandas as pd\n",
    "\n",
    "tokenizer = TapexTokenizer.from_pretrained(\"microsoft/tapex-large-finetuned-wtq\")\n",
    "model = BartForConditionalGeneration.from_pretrained(\"microsoft/tapex-large-finetuned-wtq\")\n",
    "\n",
    "file_path = 'C:/Users/dantf/Documents/TQA_PROJECT/relatorio-consolidado-mensal-2024-marco.xlsx'\n",
    "table = pd.read_excel(file_path)\n",
    "\n",
    "query = \"Which product has the highest amount?\"\n",
    "\n",
    "encoding = tokenizer(table=table, query=query, return_tensors=\"pt\")\n",
    "\n",
    "outputs = model.generate(**encoding)\n",
    "\n",
    "temp = tokenizer.batch_decode(outputs, skip_special_tokens=True)\n",
    "answer = temp[0]\n",
    "print(answer)"
   ]
  },
  {
   "cell_type": "code",
   "execution_count": 12,
   "id": "d7c5d01b-09bc-4264-aa10-53372d8c09ff",
   "metadata": {},
   "outputs": [
    {
     "data": {
      "text/plain": [
       "'Klbn4 is the highest amount of klbn4 in the world.'"
      ]
     },
     "execution_count": 12,
     "metadata": {},
     "output_type": "execute_result"
    }
   ],
   "source": [
    "# text2text\n",
    "import os\n",
    "from transformers import AutoTokenizer, AutoModelForCausalLM, pipeline, AutoModelForSeq2SeqLM\n",
    "from huggingface_hub import hf_hub_download\n",
    "HUGGING_FACE_API_KEY = os.environ.get(\"HUGGING_FACE_API_KEY\")\n",
    "\n",
    "model_id = \"google/flan-t5-base\"\n",
    "filenames = [\n",
    "        \"tokenizer_config.json\", \"tokenizer.json\", \"tf_model.h5\", \"spiece.model\", \"special_tokens_map.json\", \"pytorch_model.bin\",\n",
    "        \"model.safetensors\",  \"generation_config.json\", \"flax_model.msgpack\", \"config.json\"\n",
    "]\n",
    "\n",
    "for filename in filenames:\n",
    "        downloaded_model_path = hf_hub_download(\n",
    "                    repo_id=model_id,\n",
    "                    filename=filename,\n",
    "                    token=HUGGING_FACE_API_KEY\n",
    "        )\n",
    "    \n",
    "tokenizer = AutoTokenizer.from_pretrained(model_id, legacy=False)\n",
    "autoModel = AutoModelForSeq2SeqLM.from_pretrained(model_id)\n",
    "\n",
    "textGenPipeline = pipeline(\"text2text-generation\", model=autoModel, device=-1, tokenizer=tokenizer, max_length=1000)\n",
    "\n",
    "def generate_answer(a):\n",
    "    template = f\"\"\"\n",
    "    Create a good response based on the following question and answer:\n",
    "    QUESTION: {query}\n",
    "    ANSWER: {answer}\n",
    "    \"\"\"\n",
    "    \n",
    "    answer_temp = textGenPipeline(template)\n",
    "    answer_final = answer_temp[0]['generated_text']\n",
    "    \n",
    "    return answer_final\n",
    "\n",
    "\n",
    "generate_answer(answer)\n"
   ]
  }
 ],
 "metadata": {
  "kernelspec": {
   "display_name": "Python 3 (ipykernel)",
   "language": "python",
   "name": "python3"
  },
  "language_info": {
   "codemirror_mode": {
    "name": "ipython",
    "version": 3
   },
   "file_extension": ".py",
   "mimetype": "text/x-python",
   "name": "python",
   "nbconvert_exporter": "python",
   "pygments_lexer": "ipython3",
   "version": "3.12.4"
  }
 },
 "nbformat": 4,
 "nbformat_minor": 5
}
