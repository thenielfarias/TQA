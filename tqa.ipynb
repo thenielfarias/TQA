{
 "cells": [
  {
   "cell_type": "code",
   "execution_count": 1,
   "id": "ddf1f5a0-56c3-4aba-bbe9-dffa8c25f88e",
   "metadata": {},
   "outputs": [
    {
     "name": "stdout",
     "output_type": "stream",
     "text": [
      " klbn4 - klabin s.a. pet\n"
     ]
    }
   ],
   "source": [
    "# TQA\n",
    "from transformers import TapexTokenizer, BartForConditionalGeneration\n",
    "import pandas as pd\n",
    "\n",
    "tokenizer = TapexTokenizer.from_pretrained(\"microsoft/tapex-large-finetuned-wtq\")\n",
    "model = BartForConditionalGeneration.from_pretrained(\"microsoft/tapex-large-finetuned-wtq\")\n",
    "\n",
    "file_path = 'C:/Users/dantf/Documents/TQA_PROJECT/relatorio-consolidado-mensal-2024-marco.xlsx'\n",
    "table = pd.read_excel(file_path)\n",
    "\n",
    "query = \"Which product has the higher quantity?\"\n",
    "encoding = tokenizer(table=table, query=query, return_tensors=\"pt\")\n",
    "\n",
    "outputs = model.generate(**encoding)\n",
    "\n",
    "temp = tokenizer.batch_decode(outputs, skip_special_tokens=True)\n",
    "answer = temp[0]\n",
    "print(answer)"
   ]
  },
  {
   "cell_type": "code",
   "execution_count": 3,
   "id": "d7c5d01b-09bc-4264-aa10-53372d8c09ff",
   "metadata": {},
   "outputs": [
    {
     "name": "stdout",
     "output_type": "stream",
     "text": [
      "C:\\Users\\dantf\\.cache\\huggingface\\hub\\models--google--flan-t5-base\\snapshots\\7bcac572ce56db69c1ea7c8af255c5d7c9672fc2\\tokenizer_config.json\n",
      "C:\\Users\\dantf\\.cache\\huggingface\\hub\\models--google--flan-t5-base\\snapshots\\7bcac572ce56db69c1ea7c8af255c5d7c9672fc2\\tokenizer.json\n",
      "C:\\Users\\dantf\\.cache\\huggingface\\hub\\models--google--flan-t5-base\\snapshots\\7bcac572ce56db69c1ea7c8af255c5d7c9672fc2\\tf_model.h5\n",
      "C:\\Users\\dantf\\.cache\\huggingface\\hub\\models--google--flan-t5-base\\snapshots\\7bcac572ce56db69c1ea7c8af255c5d7c9672fc2\\spiece.model\n",
      "C:\\Users\\dantf\\.cache\\huggingface\\hub\\models--google--flan-t5-base\\snapshots\\7bcac572ce56db69c1ea7c8af255c5d7c9672fc2\\special_tokens_map.json\n",
      "C:\\Users\\dantf\\.cache\\huggingface\\hub\\models--google--flan-t5-base\\snapshots\\7bcac572ce56db69c1ea7c8af255c5d7c9672fc2\\pytorch_model.bin\n",
      "C:\\Users\\dantf\\.cache\\huggingface\\hub\\models--google--flan-t5-base\\snapshots\\7bcac572ce56db69c1ea7c8af255c5d7c9672fc2\\model.safetensors\n",
      "C:\\Users\\dantf\\.cache\\huggingface\\hub\\models--google--flan-t5-base\\snapshots\\7bcac572ce56db69c1ea7c8af255c5d7c9672fc2\\generation_config.json\n",
      "C:\\Users\\dantf\\.cache\\huggingface\\hub\\models--google--flan-t5-base\\snapshots\\7bcac572ce56db69c1ea7c8af255c5d7c9672fc2\\flax_model.msgpack\n",
      "C:\\Users\\dantf\\.cache\\huggingface\\hub\\models--google--flan-t5-base\\snapshots\\7bcac572ce56db69c1ea7c8af255c5d7c9672fc2\\config.json\n"
     ]
    }
   ],
   "source": [
    "# text2text\n",
    "import os\n",
    "from transformers import AutoTokenizer, AutoModelForCausalLM, pipeline, AutoModelForSeq2SeqLM\n",
    "from huggingface_hub import hf_hub_download\n",
    "HUGGING_FACE_API_KEY = os.environ.get(\"HUGGING_FACE_API_KEY\")\n",
    "\n",
    "model_id = \"google/flan-t5-base\"\n",
    "filenames = [\n",
    "        \"tokenizer_config.json\", \"tokenizer.json\", \"tf_model.h5\", \"spiece.model\", \"special_tokens_map.json\", \"pytorch_model.bin\",\n",
    "        \"model.safetensors\",  \"generation_config.json\", \"flax_model.msgpack\", \"config.json\"\n",
    "]\n",
    "\n",
    "for filename in filenames:\n",
    "        downloaded_model_path = hf_hub_download(\n",
    "                    repo_id=model_id,\n",
    "                    filename=filename,\n",
    "                    token=HUGGING_FACE_API_KEY\n",
    "        )\n",
    "        print(downloaded_model_path)\n",
    "    \n",
    "tokenizer = AutoTokenizer.from_pretrained(model_id, legacy=False)\n",
    "autoModel = AutoModelForSeq2SeqLM.from_pretrained(model_id)\n",
    "\n",
    "textGenPipeline = pipeline(\"text2text-generation\", model=autoModel, device=-1, tokenizer=tokenizer, max_length=1000)\n",
    "\n",
    "def generate_answer(a):\n",
    "    template = f\"\"\"\n",
    "    Generate a complete, well-written response based on the following question and answer:\n",
    "    QUESTION: {query}\n",
    "    ANSWER: {answer}\n",
    "    \"\"\"\n",
    "    \n",
    "    answer_temp = textGenPipeline(template)\n",
    "    answer_final = answer_temp[0]['generated_text']\n",
    "    \n",
    "    return answer_final\n"
   ]
  },
  {
   "cell_type": "code",
   "execution_count": 4,
   "id": "a82f6626-aaab-47f5-85ab-bfd88b59b3f2",
   "metadata": {},
   "outputs": [
    {
     "data": {
      "text/plain": [
       "'The klbn4 - klabin s.a. pet is the highest quantity of klbn4 - klabin s.a. pet.'"
      ]
     },
     "execution_count": 4,
     "metadata": {},
     "output_type": "execute_result"
    }
   ],
   "source": [
    "generate_answer(answer)\n"
   ]
  }
 ],
 "metadata": {
  "kernelspec": {
   "display_name": "Python 3 (ipykernel)",
   "language": "python",
   "name": "python3"
  },
  "language_info": {
   "codemirror_mode": {
    "name": "ipython",
    "version": 3
   },
   "file_extension": ".py",
   "mimetype": "text/x-python",
   "name": "python",
   "nbconvert_exporter": "python",
   "pygments_lexer": "ipython3",
   "version": "3.12.4"
  }
 },
 "nbformat": 4,
 "nbformat_minor": 5
}
